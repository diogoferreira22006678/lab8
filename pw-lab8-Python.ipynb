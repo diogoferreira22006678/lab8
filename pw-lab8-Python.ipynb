{
 "cells": [
  {
   "attachments": {},
   "cell_type": "markdown",
   "metadata": {},
   "source": [
    "**UNIVERSIDADE LUSÓFONA DE HUMANIDADES E TECNOLOGIAS**\n",
    "\n",
    "# Programação Web -  Lab. 8: Python\n",
    "\n",
    "* Estes exercícios estão reidgidos em forma de tutorial para exercitar conceitos chave do Python associados com sets e dicionários. \n",
    "* Consulte os slides se tiver dúvidas. Estes contêm toda a matéria necessária para realizar estes exercícios.\n",
    "* Consulte os [video-tutoriais](https://educast.fccn.pt/vod/channels/1fzfn2fjbd?locale=en) curtos que explicam conceitos específicos do Python."
   ]
  },
  {
   "attachments": {},
   "cell_type": "markdown",
   "metadata": {
    "id": "cecSdetMJ8dx"
   },
   "source": [
    "# 0. Sets\n",
    "\n",
    "[sets: video-tutorial (5 min)](https://educast.fccn.pt/vod/clips/2h0d4s8ob4/desktop.mp4?locale=pt)\n",
    "\n",
    "Num infantário perguntaram às crianças qual a prenda de Natal que queriam. Resultou na seguinte lista:"
   ]
  },
  {
   "cell_type": "code",
   "execution_count": 20,
   "metadata": {
    "id": "-Y8M2yLQJ8d3"
   },
   "outputs": [],
   "source": [
    "lista_brinquedos = ['bola', 'boneca', 'carro', 'boneca', 'boneca', 'bola', 'boneca', 'carro', \n",
    "                    'boneca', 'boneca', 'pião', 'bola', 'boneca', 'carro', 'boneca', 'boneca', \n",
    "                    'bola', 'boneca', 'carro', 'boneca', 'boneca', 'bola', 'carro', 'bola', \n",
    "                    'carro', 'boneca', 'boneca', 'carro', 'carro', 'carro']"
   ]
  },
  {
   "attachments": {},
   "cell_type": "markdown",
   "metadata": {
    "id": "9dc7CSF9J8d5"
   },
   "source": [
    "1 Calcule quantos brinquedos existem"
   ]
  },
  {
   "cell_type": "code",
   "execution_count": 9,
   "metadata": {
    "id": "086YZS7pJ8d6"
   },
   "outputs": [
    {
     "name": "stdout",
     "output_type": "stream",
     "text": [
      "Total de brinquedos:  30\n"
     ]
    }
   ],
   "source": [
    " # Calculate how many toys are in the list\n",
    "print('Total de brinquedos: ', len(lista_brinquedos))"
   ]
  },
  {
   "attachments": {},
   "cell_type": "markdown",
   "metadata": {
    "id": "9dc7CSF9J8d5"
   },
   "source": [
    "2 Crie o set de brinquedos pretendidos\n",
    "\n",
    "Resultado esperado: `{'bola', 'boneca', 'carro', 'pião'}` \n",
    "\n",
    "Nota: o resultado pode estar noutra ordem pois um set é um conjunto onde os elementos não têm uma posição como nas sequências!"
   ]
  },
  {
   "cell_type": "code",
   "execution_count": 17,
   "metadata": {
    "id": "086YZS7pJ8d6"
   },
   "outputs": [
    {
     "name": "stdout",
     "output_type": "stream",
     "text": [
      "{'boneca', 'pião', 'carro', 'bola'}\n"
     ]
    }
   ],
   "source": [
    "# Use set in a for loop to print the toys without repetition\n",
    "\n",
    "brinquedos_unicos = set(lista_brinquedos)\n",
    "\n",
    "print(brinquedos_unicos)"
   ]
  },
  {
   "attachments": {},
   "cell_type": "markdown",
   "metadata": {
    "id": "NpKtoa9LJ8d7"
   },
   "source": [
    "3. Crie o set dos brinquedos pretendidos recorrendo a uma compreensão."
   ]
  },
  {
   "cell_type": "code",
   "execution_count": 19,
   "metadata": {
    "id": "7fZSYcwIJ8d7"
   },
   "outputs": [
    {
     "name": "stdout",
     "output_type": "stream",
     "text": [
      "{'boneca', 'pião', 'carro', 'bola'}\n"
     ]
    }
   ],
   "source": [
    "# set of toys with comprehension list\n",
    "brinquedos = {brinquedo for brinquedo in lista_brinquedos}\n",
    "\n",
    "print(brinquedos)"
   ]
  },
  {
   "attachments": {},
   "cell_type": "markdown",
   "metadata": {
    "id": "jZWABtadJ8d7"
   },
   "source": [
    "4. Itere pelo set de brinquedos, imprimindo o seu nome e a quantidade de brinquedos desse tipo existentes na lista. Para tal, utilize o método `count()` para contar a frequenciai de cada brinquedo na lista de brinquedos. Exemplo do resultado esperado:\n",
    "\n",
    "```\n",
    "boneca: 14\n",
    "bola: 6\n",
    "pião: 1\n",
    "carro: 9\n",
    "```\n",
    "\n",
    "Nota: o resultado pode estar noutra ordem pois um set é um conjunto onde os elementos não têm uma posição como nas sequências!"
   ]
  },
  {
   "cell_type": "code",
   "execution_count": 22,
   "metadata": {},
   "outputs": [
    {
     "name": "stdout",
     "output_type": "stream",
     "text": [
      "boneca: 14\n",
      "pião: 1\n",
      "carro: 9\n",
      "bola: 6\n"
     ]
    }
   ],
   "source": [
    "# Print the different toys and the number of occurrences of each toy\n",
    "for brinquedo in brinquedos_unicos:\n",
    "    print(f'{brinquedo}: {lista_brinquedos.count(brinquedo)}')"
   ]
  },
  {
   "attachments": {},
   "cell_type": "markdown",
   "metadata": {},
   "source": [
    "Para saber a quantidade de ocorrencias de um determinado brinquedo, pode usar a seguinte instrução: \n",
    "\n",
    "`lista_brinquedos.count('boneca')`\n",
    "\n",
    "Experimente-a para ver quantas bonecas existem."
   ]
  },
  {
   "cell_type": "code",
   "execution_count": 9,
   "metadata": {},
   "outputs": [
    {
     "name": "stdout",
     "output_type": "stream",
     "text": [
      "bonecas:  14\n"
     ]
    }
   ],
   "source": [
    "print('bonecas: ', lista_brinquedos.count('boneca'))"
   ]
  },
  {
   "attachments": {},
   "cell_type": "markdown",
   "metadata": {
    "id": "jZWABtadJ8d7"
   },
   "source": [
    "5. Itere pelo set de brinquedos, imprimindo o seu nome e a quantidade de brinquedos desse tipo existentes na lista. Para tal, utilize o método `count()` para contar as ocorrências de cada brinquedo na lista de brinquedos. Exemplo do resultado esperado:\n",
    "\n",
    "```\n",
    "Existem 14 bonecas\n",
    "Existem 6 bolas\n",
    "Existe 1 pião\n",
    "Existem 9 carros\n",
    "```\n",
    "\n",
    "Deverá garantir que a frase diferencia quando existe apenas uma ocorrencia (frase no singular), ou mais do que uma ocorrência (plural).\n",
    "\n",
    "Nota: o resultado pode estar noutra ordem pois um set é um conjunto onde os elementos não têm uma posição como nas sequências!"
   ]
  },
  {
   "cell_type": "code",
   "execution_count": 77,
   "metadata": {
    "id": "aa1jzFccJ8d8",
    "outputId": "8efe71d6-0d7c-4146-b6cf-677132a73304"
   },
   "outputs": [
    {
     "name": "stdout",
     "output_type": "stream",
     "text": [
      "Existem 14 bonecas\n",
      "Existe 1 pião\n",
      "Existem 9 carros\n",
      "Existem 6 bolas\n"
     ]
    }
   ],
   "source": [
    "# Print the different toys and the number of occurrences of each toy but print in singular or plural depending on the number of occurrences\n",
    "for brinquedo in brinquedos_unicos:\n",
    "    if lista_brinquedos.count(brinquedo) > 1:\n",
    "        print(f'Existem {lista_brinquedos.count(brinquedo)} {brinquedo}s')\n",
    "    else:\n",
    "        print(f'Existe {lista_brinquedos.count(brinquedo)} {brinquedo}')"
   ]
  },
  {
   "attachments": {},
   "cell_type": "markdown",
   "metadata": {},
   "source": [
    "# 1. Jantar\n",
    "\n",
    "[Sets e dicionarios: video-tutorial (4 min)](https://educast.fccn.pt/vod/clips/2loqfocen7/desktop.mp4?locale=pt)\n",
    "\n",
    "Foi a um jantar de curso e havia tres pratos. Foi circulado um papel onde as pessoas foram inserindo a sua escolha, resultando na seguinte lista:"
   ]
  },
  {
   "cell_type": "code",
   "execution_count": 28,
   "metadata": {},
   "outputs": [],
   "source": [
    "pratos = [\"carne\", 'peixe', 'vegetariano', 'peixe', \n",
    "          'vegetariano', 'vegetariano', 'peixe', 'carne',\n",
    "          'vegetariano', 'vegetariano', 'peixe', 'peixe', \n",
    "          'carne', 'peixe', 'carne', 'vegetariano']"
   ]
  },
  {
   "attachments": {},
   "cell_type": "markdown",
   "metadata": {},
   "source": [
    "1. Calcule o numero total de pratos pedidos"
   ]
  },
  {
   "cell_type": "code",
   "execution_count": 29,
   "metadata": {},
   "outputs": [
    {
     "name": "stdout",
     "output_type": "stream",
     "text": [
      "Total de pratos:  16\n"
     ]
    }
   ],
   "source": [
    "# Calculate how many dishes are in the list\n",
    "print('Total de pratos: ', len(pratos))"
   ]
  },
  {
   "attachments": {},
   "cell_type": "markdown",
   "metadata": {},
   "source": [
    "2. Crie o set pratos, com o conjunto de pratos que foram pedidos"
   ]
  },
  {
   "cell_type": "code",
   "execution_count": 30,
   "metadata": {},
   "outputs": [
    {
     "name": "stdout",
     "output_type": "stream",
     "text": [
      "{'vegetariano', 'peixe', 'carne'}\n"
     ]
    }
   ],
   "source": [
    "# Set of dishes with comprehension list\n",
    "pratos_unicos = {prato for prato in pratos}\n",
    "\n",
    "print(pratos_unicos)"
   ]
  },
  {
   "attachments": {},
   "cell_type": "markdown",
   "metadata": {},
   "source": [
    "3. Diga quantos pratos diferentes existem"
   ]
  },
  {
   "cell_type": "code",
   "execution_count": 31,
   "metadata": {},
   "outputs": [
    {
     "name": "stdout",
     "output_type": "stream",
     "text": [
      "Total de pratos únicos:  3\n"
     ]
    }
   ],
   "source": [
    "# How many different dishes are in the list?\n",
    "print('Total de pratos únicos: ', len(pratos_unicos))"
   ]
  },
  {
   "attachments": {},
   "cell_type": "markdown",
   "metadata": {},
   "source": [
    "4. Crie um dicionário de frequências de cada um dos pratos"
   ]
  },
  {
   "cell_type": "code",
   "execution_count": 36,
   "metadata": {},
   "outputs": [
    {
     "name": "stdout",
     "output_type": "stream",
     "text": [
      "{'vegetariano': 6, 'peixe': 6, 'carne': 4}\n"
     ]
    }
   ],
   "source": [
    "# create a dictionary with the number of occurrences of each dish\n",
    "pratos_dict = {prato: pratos.count(prato) for prato in pratos_unicos}\n",
    "\n",
    "print(pratos_dict)\n",
    "\n"
   ]
  },
  {
   "attachments": {},
   "cell_type": "markdown",
   "metadata": {},
   "source": [
    "5. Considere o menu do restaurante:\n",
    "* vegetariano: 10.3\n",
    "* carne: 13.2\n",
    "* crudivero: 14.2\n",
    "* peixe: 12.5\n",
    "* marisco: 17.5\n",
    "* vegan: 34\n",
    "\n",
    "Crie um dicionário de preços"
   ]
  },
  {
   "cell_type": "code",
   "execution_count": 46,
   "metadata": {},
   "outputs": [
    {
     "name": "stdout",
     "output_type": "stream",
     "text": [
      "Total a pagar:  71.0\n"
     ]
    }
   ],
   "source": [
    "#create a dictionary with the price of each dish\n",
    "precos = {'carne': 5.0, 'peixe': 4.5, 'vegetariano': 4.0}\n",
    "\n",
    "# print the total price of the dishes\n",
    "\n",
    "total = 0\n",
    "for prato in pratos:\n",
    "    total += precos[prato]\n",
    "\n",
    "print('Total a pagar: ', total)\n"
   ]
  },
  {
   "attachments": {},
   "cell_type": "markdown",
   "metadata": {},
   "source": [
    "6. Crie um programa que: \n",
    "* apresenta ao utilizador o conjunto de pratos disponíveis.  \n",
    "* pede ao utilizador para escolher um prato\n",
    "* o programa apresenta o preço do prato\n",
    "\n",
    "\n",
    "Construa um conjunto de funções para tornar o código mais modular."
   ]
  },
  {
   "cell_type": "code",
   "execution_count": 42,
   "metadata": {},
   "outputs": [
    {
     "name": "stdout",
     "output_type": "stream",
     "text": [
      "1 - carne\n",
      "2 - peixe\n",
      "3 - vegetariano\n",
      "4 - Acabar Pedido\n",
      "Total a pagar:  13.5\n"
     ]
    }
   ],
   "source": [
    "# function to show the user the menu\n",
    "def show_menu():\n",
    "    print('1 - carne')\n",
    "    print('2 - peixe')\n",
    "    print('3 - vegetariano')\n",
    "    print('4 - Acabar Pedido')\n",
    "\n",
    "# function to ask the user for the dish\n",
    "def ask_dish():\n",
    "    dish = int(input('Escolha um prato: '))\n",
    "    return dish\n",
    "\n",
    "# function that returns the price of the dish\n",
    "def get_price(dish):\n",
    "    if dish == 1:\n",
    "        return 5.0\n",
    "    elif dish == 2:\n",
    "        return 4.5\n",
    "    elif dish == 3:\n",
    "        return 4.0\n",
    "    else:\n",
    "        return 0\n",
    "    \n",
    "# program that uses the functions to ask the user for the dishes and print the total price\n",
    "total = 0\n",
    "order = []\n",
    "show_menu()\n",
    "while True:\n",
    "    dish = ask_dish()\n",
    "    if dish == 4:\n",
    "        break\n",
    "    if dish < 1 or dish > 4:\n",
    "        print('Prato inválido')\n",
    "        continue\n",
    "    order.append(dish)\n",
    "    total += get_price(dish)\n",
    "print('Total a pagar: ', total)"
   ]
  },
  {
   "attachments": {},
   "cell_type": "markdown",
   "metadata": {},
   "source": [
    "7. Calcule o valor da conta final, iterando pela lista de pratos"
   ]
  },
  {
   "cell_type": "code",
   "execution_count": 43,
   "metadata": {},
   "outputs": [
    {
     "name": "stdout",
     "output_type": "stream",
     "text": [
      "Total a pagar:  13.5\n"
     ]
    }
   ],
   "source": [
    "# get the total price iterating the order list\n",
    "total = 0\n",
    "for dish in order:\n",
    "    total += get_price(dish)\n",
    "print('Total a pagar: ', total)\n"
   ]
  },
  {
   "attachments": {},
   "cell_type": "markdown",
   "metadata": {},
   "source": [
    "8. Calcule o valor da conta final, iterando pelos elementos do dicionário"
   ]
  },
  {
   "cell_type": "code",
   "execution_count": 52,
   "metadata": {},
   "outputs": [
    {
     "name": "stdout",
     "output_type": "stream",
     "text": [
      "Total a pagar:  71.0\n"
     ]
    }
   ],
   "source": [
    "# get the total price using the dictionary\n",
    "precos = {'carne': 5.0, 'peixe': 4.5, 'vegetariano': 4.0}\n",
    "order = ['carne', 'peixe', 'vegetariano', 'peixe', 'vegetariano', 'vegetariano', 'peixe', 'carne', 'vegetariano', 'vegetariano', 'peixe', 'peixe', 'carne', 'peixe', 'carne', 'vegetariano']\n",
    "total = 0\n",
    "for dish in order:\n",
    "    total += precos[dish]\n",
    "print('Total a pagar: ', total)\n"
   ]
  },
  {
   "attachments": {},
   "cell_type": "markdown",
   "metadata": {
    "id": "hbZyHblFJ8d-"
   },
   "source": [
    "# 2. Dicionários\n",
    "\n",
    "[Iteração por dicionarios: video-tutorial (5 min)](https://educast.fccn.pt/vod/clips/6rv7j9es0/desktop.mp4?locale=pt)\n",
    "\n",
    "Considere a lista de brinquedos em baixo"
   ]
  },
  {
   "cell_type": "code",
   "execution_count": 53,
   "metadata": {
    "id": "BpjjFg0mJ8d_"
   },
   "outputs": [],
   "source": [
    "lista_brinquedos = ['bola', 'boneca', 'carro', 'boneca', 'boneca', 'bola', 'boneca', 'carro', \n",
    "                    'boneca', 'boneca', 'pião', 'bola', 'boneca', 'carro', 'boneca', 'boneca', \n",
    "                    'bola', 'boneca', 'carro', 'boneca', 'boneca', 'bola', 'carro', 'bola', \n",
    "                    'carro', 'boneca', 'boneca', 'carro', 'carro', 'carro']"
   ]
  },
  {
   "attachments": {},
   "cell_type": "markdown",
   "metadata": {
    "id": "_tg08suzJ8d_"
   },
   "source": [
    "2.1 Com base na lista anterior e recorrendo ao set, crie um dicionario, recorrendo a um ciclo ```for```, em que, para cada brinquedo (chave), guarda a quantidade de brinquedos (valor)\n",
    "\n",
    "Resultado esperado: `{'bola': 6, 'boneca': 14, 'carro': 9, 'pião': 1}`"
   ]
  },
  {
   "cell_type": "code",
   "execution_count": 1,
   "metadata": {
    "id": "tGCK-8RiJ8eA"
   },
   "outputs": [
    {
     "name": "stdout",
     "output_type": "stream",
     "text": [
      "{'boneca': 14, 'bola': 6, 'carro': 9, 'pião': 1}\n"
     ]
    }
   ],
   "source": [
    "lista_brinquedos = ['bola', 'boneca', 'carro', 'boneca', 'boneca', 'bola', 'boneca', 'carro', \n",
    "                    'boneca', 'boneca', 'pião', 'bola', 'boneca', 'carro', 'boneca', 'boneca', \n",
    "                    'bola', 'boneca', 'carro', 'boneca', 'boneca', 'bola', 'carro', 'bola', \n",
    "                    'carro', 'boneca', 'boneca', 'carro', 'carro', 'carro']\n",
    "\n",
    "# Com base na lista anterior e recorrendo ao set, crie um dicionario, recorrendo a um ciclo ```for```, em que, para cada brinquedo (chave), guarda a quantidade de brinquedos (valor)\n",
    "brinquedos_unicos = set(lista_brinquedos)\n",
    "brinquedos_dict = {brinquedo: lista_brinquedos.count(brinquedo) for brinquedo in brinquedos_unicos}\n",
    "print(brinquedos_dict)"
   ]
  },
  {
   "attachments": {},
   "cell_type": "markdown",
   "metadata": {
    "id": "vuqdMutUJ8eA"
   },
   "source": [
    "2.2 Itere pelos elementos do dicionario, imprimindo as chaves do dicionário (utilize o método `.keys()`). Formate devidamente as impressões para chegar um resultado no seguinte formato:\n",
    "\n",
    "```\n",
    "brinquedos: bola, boneca, carro, pião.\n",
    "```"
   ]
  },
  {
   "cell_type": "code",
   "execution_count": 63,
   "metadata": {
    "id": "x4hLYJnbJ8eA"
   },
   "outputs": [
    {
     "name": "stdout",
     "output_type": "stream",
     "text": [
      "brinquedos: boneca, pião, carro, bola, \n"
     ]
    }
   ],
   "source": [
    "#Itere pelos elementos do dicionario, imprimindo as chaves do dicionário (utilize o método `.keys()`). Formate devidamente as impressões para chegar um resultado no seguinte formato:\n",
    "string = 'brinquedos: '\n",
    "for brinquedo in brinquedos_dict.keys():\n",
    "    # This format brinquedos : bola, boneca, carro, pião\n",
    "    string += brinquedo + ', '\n",
    "\n",
    "print(string)"
   ]
  },
  {
   "attachments": {},
   "cell_type": "markdown",
   "metadata": {
    "id": "tBpTem9yJ8eB"
   },
   "source": [
    "2.3 Itere pelos elementos do dicionario, imprimindo apenas os valores do dicionário (utilize o método `.values()`) e apresentando também o numero total de brinquedos. Formate devidamente as impressões para chegar um resultado no seguinte formato:\n",
    "```\n",
    "Quantidades: 6, 14, 9, 1\n",
    "Total de brinquedos: 30\n",
    "```"
   ]
  },
  {
   "cell_type": "code",
   "execution_count": 71,
   "metadata": {
    "id": "5_q43Aq9J8eB"
   },
   "outputs": [
    {
     "name": "stdout",
     "output_type": "stream",
     "text": [
      "Quantidades: 14, 1, 9, 6, \n",
      "Total de brinquedos: 30\n"
     ]
    }
   ],
   "source": [
    "quantidades = 'Quantidades: '\n",
    "total = 'Total de brinquedos: '\n",
    "value = 0\n",
    "\n",
    "for brinquedo in brinquedos_dict.values():\n",
    "    \n",
    "    quantidades += str(brinquedo) + ', '\n",
    "\n",
    "    value += brinquedo\n",
    "\n",
    "print(quantidades)\n",
    "print(total + str(value))"
   ]
  },
  {
   "attachments": {},
   "cell_type": "markdown",
   "metadata": {
    "id": "tbWTrqWMJ8eB"
   },
   "source": [
    "2.4 Itere pelos elementos do dicionario, imprimindo as chaves e os valores do dicionário (utilize o método `.items()`).\n",
    "\n",
    " Exemplo do resultado esperado:\n",
    "\n",
    "```\n",
    "Existem 14 bonecas\n",
    "Existem 6 bolas\n",
    "Existe 1 pião\n",
    "Existem 9 carros\n",
    "```\n",
    "\n",
    "Deverá garantir que a frase diferencia quando existe apenas uma ocorrencia (frase no singular), ou mais do que uma ocorrência (plural)."
   ]
  },
  {
   "cell_type": "code",
   "execution_count": 75,
   "metadata": {
    "id": "fv2nybfKJ8eB"
   },
   "outputs": [
    {
     "name": "stdout",
     "output_type": "stream",
     "text": [
      "Existem 14 bonecas\n",
      "Existe 1 pião\n",
      "Existem 9 carros\n",
      "Existem 6 bolas\n"
     ]
    }
   ],
   "source": [
    "for brinquedo in brinquedos_dict.items():\n",
    "    # if brinquedo is more than 1, print 'Existem' else print 'Existe'\n",
    "    if brinquedo[1] > 1:\n",
    "        print(f'Existem {brinquedo[1]} {brinquedo[0]}s')\n",
    "    else:\n",
    "        print(f'Existe {brinquedo[1]} {brinquedo[0]}')\n"
   ]
  },
  {
   "attachments": {},
   "cell_type": "markdown",
   "metadata": {
    "id": "MhVAvgNLJ8eC"
   },
   "source": [
    "2.5 Transforme os items do dicionario (lembre-se do método para obter os items...) numa lista de tuplos, com a função `list`.\n",
    "\n",
    "Resultado esperado: `[('bola', 6), ('boneca', 14), ('carro', 9)]`"
   ]
  },
  {
   "cell_type": "code",
   "execution_count": 83,
   "metadata": {
    "id": "PYJa4RwyJ8eC"
   },
   "outputs": [
    {
     "name": "stdout",
     "output_type": "stream",
     "text": [
      "[('boneca', 10), ('carro', 6), ('bola', 4), ('pião', 1)]\n"
     ]
    }
   ],
   "source": [
    "# Transforme os items do dicionario (lembre-se do método para obter os items...) numa lista de tuplos, com a função `list`.\n",
    "\n",
    "brinquedos_tuplos = list(brinquedos_dict.items())\n",
    "print(brinquedos_tuplos)\n"
   ]
  },
  {
   "attachments": {},
   "cell_type": "markdown",
   "metadata": {
    "id": "kaZDERu3J8eC"
   },
   "source": [
    "2.6 Como o dicionário não é ordenável, este é convertido numa lista, que depois pode ser ordenada. Ordene decrescentemente a lista, pela quantidade de brinquedos, imprimindo de acordo com o formato em baixo:\n",
    "\n",
    "```\n",
    "Existem 14 bonecas\n",
    "Existem 9 carros\n",
    "Existem 6 bolas\n",
    "Existe 1 pião\n",
    "```"
   ]
  },
  {
   "cell_type": "code",
   "execution_count": 84,
   "metadata": {
    "id": "59hnNIlKJ8eD"
   },
   "outputs": [
    {
     "name": "stdout",
     "output_type": "stream",
     "text": [
      "Existem 10 bonecas\n",
      "Existem 6 carros\n",
      "Existem 4 bolas\n",
      "Existe 1 pião\n"
     ]
    }
   ],
   "source": [
    "# Sort brinquedos_dict by value descending\n",
    "brinquedos_dict = dict(sorted(brinquedos_dict.items(), key=lambda x: x[1], reverse=True))\n",
    "for brinquedo in brinquedos_dict.items():\n",
    "    # if brinquedo is more than 1, print 'Existem' else print 'Existe'\n",
    "    if brinquedo[1] > 1:\n",
    "        print(f'Existem {brinquedo[1]} {brinquedo[0]}s')\n",
    "    else:\n",
    "        print(f'Existe {brinquedo[1]} {brinquedo[0]}')\n",
    "\n",
    "        "
   ]
  },
  {
   "attachments": {},
   "cell_type": "markdown",
   "metadata": {
    "id": "xXA4KlHsJ8eD"
   },
   "source": [
    "2.7 Como o dicionário não é ordenável, este é convertido numa lista, que depois pode ser ordenada. Ordene lista alfabeticamente pelo nome do brinquedo, imprimindo de acordo com o formato em baixo:\n",
    "\n",
    "```\n",
    "bonecas: 14\n",
    "carros: 9\n",
    "bolas: 6\n",
    "pião: 1\n",
    "```"
   ]
  },
  {
   "cell_type": "code",
   "execution_count": 4,
   "metadata": {
    "id": "VeQ-qNa2J8eD"
   },
   "outputs": [
    {
     "name": "stdout",
     "output_type": "stream",
     "text": [
      "bola: 6\n",
      "boneca: 14\n",
      "carro: 9\n",
      "pião: 1\n"
     ]
    }
   ],
   "source": [
    "# Sort by alphabetical order of the keys\n",
    "\n",
    "brinquedos_dict = dict(sorted(brinquedos_dict.items(), key=lambda x: x[0]))\n",
    "\n",
    "for brinquedo in brinquedos_dict.items():\n",
    "    # print name: quantity\n",
    "    print(f'{brinquedo[0]}: {brinquedo[1]}')"
   ]
  },
  {
   "attachments": {},
   "cell_type": "markdown",
   "metadata": {
    "id": "Hpk1B5eLJ8eD"
   },
   "source": [
    "# 3. Criando dicionários\n",
    "\n",
    "[Dicionarios e suas operações: video-tutorial (6 min)](https://educast.fccn.pt/vod/clips/1qwauls8yh/desktop.mp4?locale=pt)\n",
    "\n",
    "3.1 Crie um dicionário de idades, onde pede repetidamente ao utilizador para inserir um nome e uma idade, que armazenará num dicionário. Deverá parar a inserção quando o utilizador especificar como nome a palavra 'fim', imprimindo o dicionário resultante. Exemplo de funcionamento:\n",
    "\n",
    "```\n",
    "Insira um nome (ou 'fim' para terminar): Mario\n",
    "Insira a idade do Mario: 13\n",
    "Insira um nome (ou 'fim' para terminar): Ze\n",
    "Insira a idade do Ze: 11\n",
    "Insira um nome (ou 'fim' para terminar): Rui\n",
    "Insira a idade do Rui: 15\n",
    "Insira um nome (ou 'fim' para terminar): fim\n",
    "\n",
    "Dicionário criado: {'Mario': 13, 'Ze': 11, 'Rui': 15}\n",
    "```"
   ]
  },
  {
   "cell_type": "code",
   "execution_count": 5,
   "metadata": {
    "id": "vQjw_EEwJ8eD"
   },
   "outputs": [
    {
     "name": "stdout",
     "output_type": "stream",
     "text": [
      "Dicionário criado:  {'Mario': 13, 'Zé': 11, 'Rui': 15}\n"
     ]
    }
   ],
   "source": [
    "# Initialize an empty dictionary\n",
    "d = {}\n",
    "\n",
    "# Ask the user for a name and age\n",
    "while True:\n",
    "    name = input(\"Insira um nome (ou 'fim' para terminar): \")\n",
    "    if name == 'fim':\n",
    "        break\n",
    "    age = int(input(\"Insira a idade (ou 0 para terminar): \"))\n",
    "    if age == 'fim':\n",
    "        break\n",
    "    # add the name and age to the dictionary\n",
    "    d[name] = age\n",
    "\n",
    "# print the dictionary\n",
    "print(\"Dicionário criado: \", d)"
   ]
  },
  {
   "attachments": {},
   "cell_type": "markdown",
   "metadata": {
    "id": "l8IOQ3OhJ8eD"
   },
   "source": [
    "3.2 Com base no dicionário criado, escreva um programa que peça ao utilizador para inserir um nome. O programa deverá indicar a idade dessa pessoa. Repita enquanto não for inserido 'fim'. Caso o nome não conste no dicionário, imprima uma mensagem adequada. PAra tal, antes de consultar o dicionário deverá inquirir se a chave existe no dicionario com o operador `in` (exemplo de utilização: `if amigo in dic_amigos`). Exemplo de funcionamento:\n",
    "\n",
    "```\n",
    "Insira um nome (ou 'fim' para terminar): Ze\n",
    "O Ze tem 11 anos\n",
    "Insira um nome (ou 'fim' para terminar): Luis\n",
    "O Luis não consta no dicionário de amigos\n",
    "Insira um nome (ou 'fim' para terminar): fim\n",
    "Obrigado\n",
    "```"
   ]
  },
  {
   "cell_type": "code",
   "execution_count": 7,
   "metadata": {
    "id": "6T53SzflJ8eE"
   },
   "outputs": [
    {
     "name": "stdout",
     "output_type": "stream",
     "text": [
      "Obrigado\n"
     ]
    }
   ],
   "source": [
    "# Ask the user for a name and print the age\n",
    "while True:\n",
    "    name = input(\"Insira um nome (ou 'fim' para terminar): \")\n",
    "    if name == 'fim':\n",
    "        print('Obrigado')\n",
    "        break\n",
    "    # print the age of the name\n",
    "    print(f'O {name} tem {d[name]} anos')\n",
    "\n"
   ]
  },
  {
   "attachments": {},
   "cell_type": "markdown",
   "metadata": {
    "id": "OoeFEOrRJ8eE"
   },
   "source": [
    "# 4 Explorando um dicionário\n",
    "\n",
    "Considere o dicionário brinquedos em baixo que tem o inventário dos brinquedos de várias crianças:\n",
    "* Manuel tem um carro e uma bola\n",
    "* Maria tem uma boneca e uma bola\n",
    "* Luís tem uma bola, boneca e carro\n",
    "\n",
    "Exemplo de um dicionário."
   ]
  },
  {
   "cell_type": "code",
   "execution_count": 8,
   "metadata": {
    "id": "43AAAEGCJ8eE"
   },
   "outputs": [],
   "source": [
    "brinquedos = {\n",
    "    \"Manuel\": [\"carro\", \"bola\"],\n",
    "    \"Maria\": [\"boneca\", \"bola\"],\n",
    "    \"Luis\": [\"bola\", \"boneca\", \"carro\"]\n",
    "    }"
   ]
  },
  {
   "attachments": {},
   "cell_type": "markdown",
   "metadata": {
    "id": "BxfhxoNtJ8eE"
   },
   "source": [
    "4.1 Considerando que o dicionário segue a estrutura anterior, escreva uma instrução que compute quantas crianças existem no dicionário\n",
    "\n",
    "Resultado esperado: `Existem 3 crianças`"
   ]
  },
  {
   "cell_type": "code",
   "execution_count": 10,
   "metadata": {
    "id": "3WVGPM7zJ8eE"
   },
   "outputs": [
    {
     "name": "stdout",
     "output_type": "stream",
     "text": [
      "Existem 3 crianças\n"
     ]
    }
   ],
   "source": [
    "# How  many children are in the dictionary\n",
    "print(\"Existem\", len(brinquedos), \"crianças\")"
   ]
  },
  {
   "attachments": {},
   "cell_type": "markdown",
   "metadata": {
    "id": "fQe9KZvPJ8eE"
   },
   "source": [
    "4.2 Considerando que o dicionário segue a estrutura anterior, imprima a informação de quantos brinquedos cada criança tem, iterando com um ciclo for pelos items do dicionário, e usando uma string formatada.\n",
    "\n",
    "Resultado esperado:\n",
    "\n",
    "```\n",
    "Manuel: 2 brinquedos \n",
    "Maria: 2 brinquedos \n",
    "Luis: 3 brinquedos\n",
    "```"
   ]
  },
  {
   "cell_type": "code",
   "execution_count": 11,
   "metadata": {
    "id": "4FAlFfhkJ8eF"
   },
   "outputs": [
    {
     "name": "stdout",
     "output_type": "stream",
     "text": [
      "Manuel: 2 brinquedos\n",
      "Maria: 2 brinquedos\n",
      "Luis: 3 brinquedos\n"
     ]
    }
   ],
   "source": [
    "# Print the name of the children and how many toys they have\n",
    "for name, toys in brinquedos.items():\n",
    "    print(f'{name}: {len(toys)} brinquedos')"
   ]
  },
  {
   "attachments": {},
   "cell_type": "markdown",
   "metadata": {
    "id": "rKy_5teCJ8eF"
   },
   "source": [
    "4.3 Imaginando que conhece a estrutura mas não o conteúdo do dicionário, verifique a quantidade total de brinquedos existente.\n",
    "\n",
    "Exemplo de resultado: `Existem 7 brinquedos`"
   ]
  },
  {
   "cell_type": "code",
   "execution_count": 14,
   "metadata": {
    "id": "imwLcTrkJ8eF"
   },
   "outputs": [
    {
     "name": "stdout",
     "output_type": "stream",
     "text": [
      "Existem 7 brinquedos\n"
     ]
    }
   ],
   "source": [
    "total = 0\n",
    "# Print the toys of all children\n",
    "for name, toys in brinquedos.items():\n",
    "    total += len(toys)\n",
    "\n",
    "print(\"Existem\", total, \"brinquedos\")"
   ]
  },
  {
   "attachments": {},
   "cell_type": "markdown",
   "metadata": {
    "id": "yZ9oUqQ0J8eF"
   },
   "source": [
    "4.4 crie um código que verifique se existe alguma criança com um carro"
   ]
  },
  {
   "cell_type": "code",
   "execution_count": 16,
   "metadata": {
    "id": "JrKy0yuFJ8eF"
   },
   "outputs": [
    {
     "name": "stdout",
     "output_type": "stream",
     "text": [
      "Existe pelo menos um carro\n"
     ]
    }
   ],
   "source": [
    "trigger = False\n",
    "# See if a child has a carro\n",
    "for name, toys in brinquedos.items():\n",
    "    if 'carro' in toys:\n",
    "        trigger = True\n",
    "\n",
    "if trigger:\n",
    "    print(\"Existe pelo menos um carro\")\n"
   ]
  },
  {
   "attachments": {},
   "cell_type": "markdown",
   "metadata": {
    "id": "2BPzvcaTJ8eG"
   },
   "source": [
    "4.5 crie um código que indique os nomes das crianças que têm um carro.\n",
    "\n",
    "Resultado esperado: `Manuel Maria Luis `"
   ]
  },
  {
   "cell_type": "code",
   "execution_count": 19,
   "metadata": {
    "id": "tzHxHy9CJ8eG"
   },
   "outputs": [
    {
     "name": "stdout",
     "output_type": "stream",
     "text": [
      "Manuel Luis \n"
     ]
    }
   ],
   "source": [
    "child_with_carro = \"\"\n",
    "# See if a child has a carro\n",
    "for name, toys in brinquedos.items():\n",
    "    if 'carro' in toys:\n",
    "        # If the child has a car add to the string\n",
    "        child_with_carro += name + \" \"\n",
    "\n",
    "print(child_with_carro)"
   ]
  },
  {
   "attachments": {},
   "cell_type": "markdown",
   "metadata": {
    "id": "VcjCe8mTJ8eG"
   },
   "source": [
    "4.6 crie um código que indique quantas crianças têm uma boneca\n",
    "\n",
    "Resultado esperado: `Existem 2 crianças com uma boneca`"
   ]
  },
  {
   "cell_type": "code",
   "execution_count": 21,
   "metadata": {
    "id": "AT4NOdPhJ8eG"
   },
   "outputs": [
    {
     "name": "stdout",
     "output_type": "stream",
     "text": [
      "Existem 2 crianças com uma boneca\n"
     ]
    }
   ],
   "source": [
    "# How many children have a boneca\n",
    "counter = 0\n",
    "for name, toys in brinquedos.items():\n",
    "    if 'boneca' in toys:\n",
    "        counter += 1\n",
    "\n",
    "print(\"Existem\", counter, \"crianças com uma boneca\")"
   ]
  },
  {
   "attachments": {},
   "cell_type": "markdown",
   "metadata": {
    "id": "cdztO1ILJ8eG"
   },
   "source": [
    "4.7 crie uma instrução para adicionar um pião à lista de brinquedos do Manuel"
   ]
  },
  {
   "cell_type": "code",
   "execution_count": 22,
   "metadata": {
    "id": "F1CcgVAlJ8eG"
   },
   "outputs": [
    {
     "name": "stdout",
     "output_type": "stream",
     "text": [
      "{'Manuel': ['carro', 'bola', 'pião'], 'Maria': ['boneca', 'bola'], 'Luis': ['bola', 'boneca', 'carro']}\n"
     ]
    }
   ],
   "source": [
    "# Add a pião to Manuel\n",
    "brinquedos['Manuel'].append('pião')\n",
    "\n",
    "print(brinquedos)"
   ]
  },
  {
   "attachments": {},
   "cell_type": "markdown",
   "metadata": {
    "id": "pyeJoT6-J8eG"
   },
   "source": [
    "4.8 remova a bola da lista de brinquedos do Manuel"
   ]
  },
  {
   "cell_type": "code",
   "execution_count": 24,
   "metadata": {
    "id": "dLuVHwSOJ8eG"
   },
   "outputs": [
    {
     "ename": "ValueError",
     "evalue": "list.remove(x): x not in list",
     "output_type": "error",
     "traceback": [
      "\u001b[1;31m---------------------------------------------------------------------------\u001b[0m",
      "\u001b[1;31mValueError\u001b[0m                                Traceback (most recent call last)",
      "Cell \u001b[1;32mIn[24], line 3\u001b[0m\n\u001b[0;32m      1\u001b[0m \u001b[39m# Remove a bola from Manuel\u001b[39;00m\n\u001b[1;32m----> 3\u001b[0m brinquedos[\u001b[39m'\u001b[39;49m\u001b[39mManuel\u001b[39;49m\u001b[39m'\u001b[39;49m]\u001b[39m.\u001b[39;49mremove(\u001b[39m'\u001b[39;49m\u001b[39mbola\u001b[39;49m\u001b[39m'\u001b[39;49m)\n\u001b[0;32m      5\u001b[0m \u001b[39mprint\u001b[39m(brinquedos)\n",
      "\u001b[1;31mValueError\u001b[0m: list.remove(x): x not in list"
     ]
    }
   ],
   "source": [
    "# Remove a bola from Manuel\n",
    "\n",
    "brinquedos['Manuel'].remove('bola')\n",
    "\n",
    "print(brinquedos)"
   ]
  },
  {
   "attachments": {},
   "cell_type": "markdown",
   "metadata": {},
   "source": [
    "# Classes\n",
    "\n",
    "Os automóveis mais recentes mostram a distância que é possível percorrer até ser necessário um reabastecimento. Pretende-se criar esta funcionalidade em Python através da classe automovel. Esta classe é construída indicando os seguintes atributos: \n",
    "* capacidade_combustivel, a capacidade do depósito.\n",
    "* quant_combustivel, a quantidade de combustível no depósito.\n",
    "* consumo, o consumo do automóvel em litros aos 100 km. \n",
    "\n",
    "A classe automovel apresenta também os seguintes métodos:\n",
    "* combustivel: devolve a quantidade de combustível no depósito;\n",
    "* autonomia: devolve o numero de km que é possível percorrer com o combustível no depósito;\n",
    "* abastece(n_litros): aumenta em n_litros o combustível no depósito e retorna a autonomia. Se este abastecimento exceder a capacidade do depósito, gera um erro e não aumenta a quantidade de combustível no depósito;\n",
    "* percorre(n_km) percorre n_km Km, desde que a quantidade de combustível no depósito o permita, em caso contrário gera um erro e o trajecto não é efectuado. Retorna a autonomia.\n",
    "\n",
    "Exemplo de interação da classe:\n",
    "```\n",
    ">>> a1 = automovel(60, 10, 15)\n",
    ">>> a1.autonomia()\n",
    "66\n",
    ">>> a1.abastece(45)\n",
    "366\n",
    ">>> a1.percorre(150)\n",
    "216\n",
    ">>> a1.percorre(250)\n",
    "-1\n",
    "```\n",
    "\n",
    "Faça uma demonstração da utilização desta classe, implementando o exemplo atrás."
   ]
  },
  {
   "cell_type": "code",
   "execution_count": null,
   "metadata": {},
   "outputs": [],
   "source": [
    "# Class Automovel\n",
    "class Automovel:\n",
    "    # Attributes capacidade_combustivel, quant_combustivel, consumo\n",
    "    def __init__(self, capacidade_combustivel, quant_combustivel, consumo):\n",
    "\n",
    "    # Method combustivel returns the amount of fuel\n",
    "        self.capacidade_combustivel = capacidade_combustivel\n",
    "    # Method autonimia returns the autonomy of the car being the consumption * quantity of fuel\n",
    "        self.quant_combustivel = quant_combustivel*consumo\n",
    "    # Method abastece adds fuel that receives as argument and adds to the quantity of fuel\n",
    "        self.consumo = consumo\n",
    "    "
   ]
  }
 ],
 "metadata": {
  "colab": {
   "name": "padc-exercicios-04.ipynb",
   "provenance": []
  },
  "kernelspec": {
   "display_name": "Python 3 (ipykernel)",
   "language": "python",
   "name": "python3"
  },
  "language_info": {
   "codemirror_mode": {
    "name": "ipython",
    "version": 3
   },
   "file_extension": ".py",
   "mimetype": "text/x-python",
   "name": "python",
   "nbconvert_exporter": "python",
   "pygments_lexer": "ipython3",
   "version": "3.11.3"
  }
 },
 "nbformat": 4,
 "nbformat_minor": 1
}
